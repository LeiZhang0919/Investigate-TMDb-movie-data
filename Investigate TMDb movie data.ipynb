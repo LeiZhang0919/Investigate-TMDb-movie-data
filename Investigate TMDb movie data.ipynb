{
 "cells": [
  {
   "cell_type": "markdown",
   "metadata": {},
   "source": [
    "> \n",
    "\n",
    "# Project: Investigate a Dataset: TMDb movie data\n",
    "\n",
    "## Table of Contents\n",
    "<ul>\n",
    "<li><a href=\"#intro\">Introduction</a></li>\n",
    "<li><a href=\"#wrangling\">Data Wrangling</a></li>\n",
    "<li><a href=\"#eda\">Exploratory Data Analysis</a></li>\n",
    "<li><a href=\"#conclusions\">Conclusions</a></li>\n",
    "</ul>"
   ]
  },
  {
   "cell_type": "markdown",
   "metadata": {},
   "source": [
    "# Introduction\n",
    "\n",
    "I've selected the TMDb movies dataset.This dataset has more than 10k rows and 21 columns including director,revenue,budget of a movies."
   ]
  },
  {
   "cell_type": "markdown",
   "metadata": {},
   "source": [
    "## Questions can be asked about this dataset:"
   ]
  },
  {
   "cell_type": "markdown",
   "metadata": {},
   "source": [
    "1.The most profitable mvie and the average profit of the movies? \n",
    "\n",
    "2.The movie that has largest budget and the average budget for all the movies?  \n",
    "\n",
    "3.The movies that has the largest revenue and the averge revenue for all movies?  \n",
    "\n",
    "4.Which movie has the highest rating?  \n",
    "\n",
    "5.which movie has the longest and shortest runtime?\n",
    "\n",
    "6.What is the average runtime?  \n",
    "\n",
    "7.How does rating distribute? \n",
    "\n",
    "7.Does higher rating means higher chance of being more profitable?  \n",
    "\n",
    "8.What variables are correlated with profits?  \n",
    "\n",
    "9.What are the most frequent genres,production companies,directors and actors for the profitable movies?  \n",
    "\n",
    "10.In which month the average profits are the most?  \n",
    "\n",
    "11.In which month there are the largest number of movies released?  \n",
    "\n",
    "12.What factors would I take into consideration when making a decision on investing a movie?"
   ]
  },
  {
   "cell_type": "code",
   "execution_count": 21,
   "metadata": {},
   "outputs": [],
   "source": [
    "# set up import statements for all of the packages that I plan on using\n",
    "import pandas as pd\n",
    "import numpy as np\n",
    "import matplotlib.pyplot as plt\n",
    "import seaborn as sns\n",
    "%matplotlib inline "
   ]
  },
  {
   "cell_type": "markdown",
   "metadata": {},
   "source": [
    "# Data Wrangling"
   ]
  },
  {
   "cell_type": "markdown",
   "metadata": {},
   "source": [
    "## Drop unrelevant columns"
   ]
  },
  {
   "cell_type": "code",
   "execution_count": 2,
   "metadata": {},
   "outputs": [
    {
     "data": {
      "text/html": [
       "<div>\n",
       "<style scoped>\n",
       "    .dataframe tbody tr th:only-of-type {\n",
       "        vertical-align: middle;\n",
       "    }\n",
       "\n",
       "    .dataframe tbody tr th {\n",
       "        vertical-align: top;\n",
       "    }\n",
       "\n",
       "    .dataframe thead th {\n",
       "        text-align: right;\n",
       "    }\n",
       "</style>\n",
       "<table border=\"1\" class=\"dataframe\">\n",
       "  <thead>\n",
       "    <tr style=\"text-align: right;\">\n",
       "      <th></th>\n",
       "      <th>id</th>\n",
       "      <th>imdb_id</th>\n",
       "      <th>popularity</th>\n",
       "      <th>budget</th>\n",
       "      <th>revenue</th>\n",
       "      <th>original_title</th>\n",
       "      <th>cast</th>\n",
       "      <th>homepage</th>\n",
       "      <th>director</th>\n",
       "      <th>tagline</th>\n",
       "      <th>...</th>\n",
       "      <th>overview</th>\n",
       "      <th>runtime</th>\n",
       "      <th>genres</th>\n",
       "      <th>production_companies</th>\n",
       "      <th>release_date</th>\n",
       "      <th>vote_count</th>\n",
       "      <th>vote_average</th>\n",
       "      <th>release_year</th>\n",
       "      <th>budget_adj</th>\n",
       "      <th>revenue_adj</th>\n",
       "    </tr>\n",
       "  </thead>\n",
       "  <tbody>\n",
       "    <tr>\n",
       "      <th>0</th>\n",
       "      <td>135397</td>\n",
       "      <td>tt0369610</td>\n",
       "      <td>32.985763</td>\n",
       "      <td>150000000</td>\n",
       "      <td>1513528810</td>\n",
       "      <td>Jurassic World</td>\n",
       "      <td>Chris Pratt|Bryce Dallas Howard|Irrfan Khan|Vi...</td>\n",
       "      <td>http://www.jurassicworld.com/</td>\n",
       "      <td>Colin Trevorrow</td>\n",
       "      <td>The park is open.</td>\n",
       "      <td>...</td>\n",
       "      <td>Twenty-two years after the events of Jurassic ...</td>\n",
       "      <td>124</td>\n",
       "      <td>Action|Adventure|Science Fiction|Thriller</td>\n",
       "      <td>Universal Studios|Amblin Entertainment|Legenda...</td>\n",
       "      <td>6/9/15</td>\n",
       "      <td>5562</td>\n",
       "      <td>6.5</td>\n",
       "      <td>2015</td>\n",
       "      <td>1.379999e+08</td>\n",
       "      <td>1.392446e+09</td>\n",
       "    </tr>\n",
       "  </tbody>\n",
       "</table>\n",
       "<p>1 rows × 21 columns</p>\n",
       "</div>"
      ],
      "text/plain": [
       "       id    imdb_id  popularity     budget     revenue  original_title  \\\n",
       "0  135397  tt0369610   32.985763  150000000  1513528810  Jurassic World   \n",
       "\n",
       "                                                cast  \\\n",
       "0  Chris Pratt|Bryce Dallas Howard|Irrfan Khan|Vi...   \n",
       "\n",
       "                        homepage         director            tagline  ...  \\\n",
       "0  http://www.jurassicworld.com/  Colin Trevorrow  The park is open.  ...   \n",
       "\n",
       "                                            overview runtime  \\\n",
       "0  Twenty-two years after the events of Jurassic ...     124   \n",
       "\n",
       "                                      genres  \\\n",
       "0  Action|Adventure|Science Fiction|Thriller   \n",
       "\n",
       "                                production_companies release_date vote_count  \\\n",
       "0  Universal Studios|Amblin Entertainment|Legenda...       6/9/15       5562   \n",
       "\n",
       "   vote_average  release_year    budget_adj   revenue_adj  \n",
       "0           6.5          2015  1.379999e+08  1.392446e+09  \n",
       "\n",
       "[1 rows x 21 columns]"
      ]
     },
     "execution_count": 2,
     "metadata": {},
     "output_type": "execute_result"
    }
   ],
   "source": [
    "# load the data and check the head of the dataframe\n",
    "df = pd.read_csv('tmdb.movies.csv')\n",
    "df.head(1)"
   ]
  },
  {
   "cell_type": "markdown",
   "metadata": {},
   "source": [
    "There are several columns such as homepage or tagline that we can hardly do any analysis.So I think droppping them would be a good idea. "
   ]
  },
  {
   "cell_type": "code",
   "execution_count": 4,
   "metadata": {},
   "outputs": [
    {
     "data": {
      "text/plain": [
       "Index(['id', 'imdb_id', 'popularity', 'budget', 'revenue', 'original_title',\n",
       "       'cast', 'homepage', 'director', 'tagline', 'keywords', 'overview',\n",
       "       'runtime', 'genres', 'production_companies', 'release_date',\n",
       "       'vote_count', 'vote_average', 'release_year', 'budget_adj',\n",
       "       'revenue_adj'],\n",
       "      dtype='object')"
      ]
     },
     "execution_count": 4,
     "metadata": {},
     "output_type": "execute_result"
    }
   ],
   "source": [
    "# check the columns\n",
    "df.columns"
   ]
  },
  {
   "cell_type": "code",
   "execution_count": 5,
   "metadata": {},
   "outputs": [],
   "source": [
    "#drop the unnecessary columns\n",
    "df.drop(['homepage','tagline','overview','keywords','imdb_id','revenue_adj','budget_adj'],axis = 1,inplace = True)"
   ]
  },
  {
   "cell_type": "code",
   "execution_count": 29,
   "metadata": {},
   "outputs": [
    {
     "data": {
      "text/html": [
       "<div>\n",
       "<style scoped>\n",
       "    .dataframe tbody tr th:only-of-type {\n",
       "        vertical-align: middle;\n",
       "    }\n",
       "\n",
       "    .dataframe tbody tr th {\n",
       "        vertical-align: top;\n",
       "    }\n",
       "\n",
       "    .dataframe thead th {\n",
       "        text-align: right;\n",
       "    }\n",
       "</style>\n",
       "<table border=\"1\" class=\"dataframe\">\n",
       "  <thead>\n",
       "    <tr style=\"text-align: right;\">\n",
       "      <th></th>\n",
       "      <th>id</th>\n",
       "      <th>popularity</th>\n",
       "      <th>budget</th>\n",
       "      <th>revenue</th>\n",
       "      <th>original_title</th>\n",
       "      <th>cast</th>\n",
       "      <th>director</th>\n",
       "      <th>runtime</th>\n",
       "      <th>genres</th>\n",
       "      <th>production_companies</th>\n",
       "      <th>release_date</th>\n",
       "      <th>vote_count</th>\n",
       "      <th>vote_average</th>\n",
       "      <th>release_year</th>\n",
       "    </tr>\n",
       "  </thead>\n",
       "  <tbody>\n",
       "    <tr>\n",
       "      <th>0</th>\n",
       "      <td>135397</td>\n",
       "      <td>32.985763</td>\n",
       "      <td>150000000</td>\n",
       "      <td>1513528810</td>\n",
       "      <td>Jurassic World</td>\n",
       "      <td>Chris Pratt|Bryce Dallas Howard|Irrfan Khan|Vi...</td>\n",
       "      <td>Colin Trevorrow</td>\n",
       "      <td>124</td>\n",
       "      <td>Action|Adventure|Science Fiction|Thriller</td>\n",
       "      <td>Universal Studios|Amblin Entertainment|Legenda...</td>\n",
       "      <td>6/9/15</td>\n",
       "      <td>5562</td>\n",
       "      <td>6.5</td>\n",
       "      <td>2015</td>\n",
       "    </tr>\n",
       "  </tbody>\n",
       "</table>\n",
       "</div>"
      ],
      "text/plain": [
       "       id  popularity     budget     revenue  original_title  \\\n",
       "0  135397   32.985763  150000000  1513528810  Jurassic World   \n",
       "\n",
       "                                                cast         director  \\\n",
       "0  Chris Pratt|Bryce Dallas Howard|Irrfan Khan|Vi...  Colin Trevorrow   \n",
       "\n",
       "   runtime                                     genres  \\\n",
       "0      124  Action|Adventure|Science Fiction|Thriller   \n",
       "\n",
       "                                production_companies release_date  vote_count  \\\n",
       "0  Universal Studios|Amblin Entertainment|Legenda...       6/9/15        5562   \n",
       "\n",
       "   vote_average  release_year  \n",
       "0           6.5          2015  "
      ]
     },
     "execution_count": 29,
     "metadata": {},
     "output_type": "execute_result"
    }
   ],
   "source": [
    "# check the head again\n",
    "df.head(1)"
   ]
  },
  {
   "cell_type": "markdown",
   "metadata": {},
   "source": [
    "## Drop null values"
   ]
  },
  {
   "cell_type": "code",
   "execution_count": 6,
   "metadata": {},
   "outputs": [],
   "source": [
    "# drop rows that have null values\n",
    "df.dropna(inplace = True)"
   ]
  },
  {
   "cell_type": "code",
   "execution_count": 7,
   "metadata": {},
   "outputs": [
    {
     "name": "stdout",
     "output_type": "stream",
     "text": [
      "<class 'pandas.core.frame.DataFrame'>\n",
      "Int64Index: 9773 entries, 0 to 10865\n",
      "Data columns (total 14 columns):\n",
      " #   Column                Non-Null Count  Dtype  \n",
      "---  ------                --------------  -----  \n",
      " 0   id                    9773 non-null   int64  \n",
      " 1   popularity            9773 non-null   float64\n",
      " 2   budget                9773 non-null   int64  \n",
      " 3   revenue               9773 non-null   int64  \n",
      " 4   original_title        9773 non-null   object \n",
      " 5   cast                  9773 non-null   object \n",
      " 6   director              9773 non-null   object \n",
      " 7   runtime               9773 non-null   int64  \n",
      " 8   genres                9773 non-null   object \n",
      " 9   production_companies  9773 non-null   object \n",
      " 10  release_date          9773 non-null   object \n",
      " 11  vote_count            9773 non-null   int64  \n",
      " 12  vote_average          9773 non-null   float64\n",
      " 13  release_year          9773 non-null   int64  \n",
      "dtypes: float64(2), int64(6), object(6)\n",
      "memory usage: 1.1+ MB\n"
     ]
    }
   ],
   "source": [
    "# check if the data type is correct\n",
    "df.info()"
   ]
  },
  {
   "cell_type": "markdown",
   "metadata": {},
   "source": [
    "## Fix data type"
   ]
  },
  {
   "cell_type": "code",
   "execution_count": 8,
   "metadata": {},
   "outputs": [],
   "source": [
    "#convert release_day from string to datetime\n",
    "from datetime import datetime \n",
    "df['release_date'] = df['release_date'].apply(lambda x:datetime.strptime(x,'%m/%d/%y'))"
   ]
  },
  {
   "cell_type": "code",
   "execution_count": 9,
   "metadata": {},
   "outputs": [
    {
     "data": {
      "text/plain": [
       "id                               int64\n",
       "popularity                     float64\n",
       "budget                           int64\n",
       "revenue                          int64\n",
       "original_title                  object\n",
       "cast                            object\n",
       "director                        object\n",
       "runtime                          int64\n",
       "genres                          object\n",
       "production_companies            object\n",
       "release_date            datetime64[ns]\n",
       "vote_count                       int64\n",
       "vote_average                   float64\n",
       "release_year                     int64\n",
       "dtype: object"
      ]
     },
     "execution_count": 9,
     "metadata": {},
     "output_type": "execute_result"
    }
   ],
   "source": [
    "# check the data type again to make sure the conversion works\n",
    "df.dtypes"
   ]
  },
  {
   "cell_type": "markdown",
   "metadata": {},
   "source": [
    "## Drop duplicates"
   ]
  },
  {
   "cell_type": "code",
   "execution_count": 10,
   "metadata": {},
   "outputs": [
    {
     "data": {
      "text/plain": [
       "1"
      ]
     },
     "execution_count": 10,
     "metadata": {},
     "output_type": "execute_result"
    }
   ],
   "source": [
    "# check the duplicates\n",
    "df.duplicated().sum()"
   ]
  },
  {
   "cell_type": "code",
   "execution_count": 11,
   "metadata": {},
   "outputs": [],
   "source": [
    "# drop the duplicates\n",
    "df.drop_duplicates(inplace = True)"
   ]
  },
  {
   "cell_type": "code",
   "execution_count": 12,
   "metadata": {},
   "outputs": [
    {
     "data": {
      "text/plain": [
       "0"
      ]
     },
     "execution_count": 12,
     "metadata": {},
     "output_type": "execute_result"
    }
   ],
   "source": [
    "#check again to make sure we dropped the duplicates\n",
    "df.duplicated().sum()"
   ]
  },
  {
   "cell_type": "markdown",
   "metadata": {},
   "source": [
    "## Remove the 0's from budget, revenue and runtime columns"
   ]
  },
  {
   "cell_type": "code",
   "execution_count": 13,
   "metadata": {},
   "outputs": [
    {
     "data": {
      "text/html": [
       "<div>\n",
       "<style scoped>\n",
       "    .dataframe tbody tr th:only-of-type {\n",
       "        vertical-align: middle;\n",
       "    }\n",
       "\n",
       "    .dataframe tbody tr th {\n",
       "        vertical-align: top;\n",
       "    }\n",
       "\n",
       "    .dataframe thead th {\n",
       "        text-align: right;\n",
       "    }\n",
       "</style>\n",
       "<table border=\"1\" class=\"dataframe\">\n",
       "  <thead>\n",
       "    <tr style=\"text-align: right;\">\n",
       "      <th></th>\n",
       "      <th>id</th>\n",
       "      <th>popularity</th>\n",
       "      <th>budget</th>\n",
       "      <th>revenue</th>\n",
       "      <th>runtime</th>\n",
       "      <th>vote_count</th>\n",
       "      <th>vote_average</th>\n",
       "      <th>release_year</th>\n",
       "    </tr>\n",
       "  </thead>\n",
       "  <tbody>\n",
       "    <tr>\n",
       "      <th>count</th>\n",
       "      <td>9772.000000</td>\n",
       "      <td>9772.000000</td>\n",
       "      <td>9.772000e+03</td>\n",
       "      <td>9.772000e+03</td>\n",
       "      <td>9772.000000</td>\n",
       "      <td>9772.000000</td>\n",
       "      <td>9772.000000</td>\n",
       "      <td>9772.000000</td>\n",
       "    </tr>\n",
       "    <tr>\n",
       "      <th>mean</th>\n",
       "      <td>63189.640810</td>\n",
       "      <td>0.694721</td>\n",
       "      <td>1.617967e+07</td>\n",
       "      <td>4.423121e+07</td>\n",
       "      <td>102.926627</td>\n",
       "      <td>239.312014</td>\n",
       "      <td>5.963528</td>\n",
       "      <td>2000.878428</td>\n",
       "    </tr>\n",
       "    <tr>\n",
       "      <th>std</th>\n",
       "      <td>90718.059987</td>\n",
       "      <td>1.036931</td>\n",
       "      <td>3.221074e+07</td>\n",
       "      <td>1.225889e+08</td>\n",
       "      <td>27.877432</td>\n",
       "      <td>603.011504</td>\n",
       "      <td>0.913174</td>\n",
       "      <td>13.036794</td>\n",
       "    </tr>\n",
       "    <tr>\n",
       "      <th>min</th>\n",
       "      <td>5.000000</td>\n",
       "      <td>0.000188</td>\n",
       "      <td>0.000000e+00</td>\n",
       "      <td>0.000000e+00</td>\n",
       "      <td>0.000000</td>\n",
       "      <td>10.000000</td>\n",
       "      <td>1.500000</td>\n",
       "      <td>1960.000000</td>\n",
       "    </tr>\n",
       "    <tr>\n",
       "      <th>25%</th>\n",
       "      <td>10221.500000</td>\n",
       "      <td>0.232710</td>\n",
       "      <td>0.000000e+00</td>\n",
       "      <td>0.000000e+00</td>\n",
       "      <td>90.000000</td>\n",
       "      <td>18.000000</td>\n",
       "      <td>5.400000</td>\n",
       "      <td>1994.000000</td>\n",
       "    </tr>\n",
       "    <tr>\n",
       "      <th>50%</th>\n",
       "      <td>18677.500000</td>\n",
       "      <td>0.419762</td>\n",
       "      <td>2.000000e+05</td>\n",
       "      <td>0.000000e+00</td>\n",
       "      <td>100.000000</td>\n",
       "      <td>46.000000</td>\n",
       "      <td>6.000000</td>\n",
       "      <td>2005.000000</td>\n",
       "    </tr>\n",
       "    <tr>\n",
       "      <th>75%</th>\n",
       "      <td>70577.250000</td>\n",
       "      <td>0.776408</td>\n",
       "      <td>1.928750e+07</td>\n",
       "      <td>3.104729e+07</td>\n",
       "      <td>112.000000</td>\n",
       "      <td>173.000000</td>\n",
       "      <td>6.600000</td>\n",
       "      <td>2011.000000</td>\n",
       "    </tr>\n",
       "    <tr>\n",
       "      <th>max</th>\n",
       "      <td>417859.000000</td>\n",
       "      <td>32.985763</td>\n",
       "      <td>4.250000e+08</td>\n",
       "      <td>2.781506e+09</td>\n",
       "      <td>877.000000</td>\n",
       "      <td>9767.000000</td>\n",
       "      <td>8.700000</td>\n",
       "      <td>2015.000000</td>\n",
       "    </tr>\n",
       "  </tbody>\n",
       "</table>\n",
       "</div>"
      ],
      "text/plain": [
       "                  id   popularity        budget       revenue      runtime  \\\n",
       "count    9772.000000  9772.000000  9.772000e+03  9.772000e+03  9772.000000   \n",
       "mean    63189.640810     0.694721  1.617967e+07  4.423121e+07   102.926627   \n",
       "std     90718.059987     1.036931  3.221074e+07  1.225889e+08    27.877432   \n",
       "min         5.000000     0.000188  0.000000e+00  0.000000e+00     0.000000   \n",
       "25%     10221.500000     0.232710  0.000000e+00  0.000000e+00    90.000000   \n",
       "50%     18677.500000     0.419762  2.000000e+05  0.000000e+00   100.000000   \n",
       "75%     70577.250000     0.776408  1.928750e+07  3.104729e+07   112.000000   \n",
       "max    417859.000000    32.985763  4.250000e+08  2.781506e+09   877.000000   \n",
       "\n",
       "        vote_count  vote_average  release_year  \n",
       "count  9772.000000   9772.000000   9772.000000  \n",
       "mean    239.312014      5.963528   2000.878428  \n",
       "std     603.011504      0.913174     13.036794  \n",
       "min      10.000000      1.500000   1960.000000  \n",
       "25%      18.000000      5.400000   1994.000000  \n",
       "50%      46.000000      6.000000   2005.000000  \n",
       "75%     173.000000      6.600000   2011.000000  \n",
       "max    9767.000000      8.700000   2015.000000  "
      ]
     },
     "execution_count": 13,
     "metadata": {},
     "output_type": "execute_result"
    }
   ],
   "source": [
    "# There are 0's in budge,revenue and runtime columns,it doesnt make any sense and we need to drop them.\n",
    "df.describe()"
   ]
  },
  {
   "cell_type": "code",
   "execution_count": 14,
   "metadata": {},
   "outputs": [],
   "source": [
    "#replace 0 values with null values\n",
    "df['budget'].replace(0,np.nan,inplace = True)"
   ]
  },
  {
   "cell_type": "code",
   "execution_count": 15,
   "metadata": {},
   "outputs": [],
   "source": [
    "# replace the 0 with nan for the column revenue\n",
    "df['revenue'].replace(0,np.nan,inplace = True)"
   ]
  },
  {
   "cell_type": "code",
   "execution_count": 16,
   "metadata": {},
   "outputs": [],
   "source": [
    "# replace the 0 with nan for the column runtime\n",
    "df['runtime'].replace(0,np.nan,inplace = True)"
   ]
  },
  {
   "cell_type": "code",
   "execution_count": 17,
   "metadata": {},
   "outputs": [],
   "source": [
    "#drop all the null values\n",
    "df.dropna(inplace = True)"
   ]
  },
  {
   "cell_type": "code",
   "execution_count": 18,
   "metadata": {},
   "outputs": [
    {
     "data": {
      "text/html": [
       "<div>\n",
       "<style scoped>\n",
       "    .dataframe tbody tr th:only-of-type {\n",
       "        vertical-align: middle;\n",
       "    }\n",
       "\n",
       "    .dataframe tbody tr th {\n",
       "        vertical-align: top;\n",
       "    }\n",
       "\n",
       "    .dataframe thead th {\n",
       "        text-align: right;\n",
       "    }\n",
       "</style>\n",
       "<table border=\"1\" class=\"dataframe\">\n",
       "  <thead>\n",
       "    <tr style=\"text-align: right;\">\n",
       "      <th></th>\n",
       "      <th>id</th>\n",
       "      <th>popularity</th>\n",
       "      <th>budget</th>\n",
       "      <th>revenue</th>\n",
       "      <th>runtime</th>\n",
       "      <th>vote_count</th>\n",
       "      <th>vote_average</th>\n",
       "      <th>release_year</th>\n",
       "    </tr>\n",
       "  </thead>\n",
       "  <tbody>\n",
       "    <tr>\n",
       "      <th>count</th>\n",
       "      <td>3805.000000</td>\n",
       "      <td>3805.000000</td>\n",
       "      <td>3.805000e+03</td>\n",
       "      <td>3.805000e+03</td>\n",
       "      <td>3805.000000</td>\n",
       "      <td>3805.000000</td>\n",
       "      <td>3805.000000</td>\n",
       "      <td>3805.000000</td>\n",
       "    </tr>\n",
       "    <tr>\n",
       "      <th>mean</th>\n",
       "      <td>40040.372668</td>\n",
       "      <td>1.203784</td>\n",
       "      <td>3.760800e+07</td>\n",
       "      <td>1.089734e+08</td>\n",
       "      <td>109.351117</td>\n",
       "      <td>534.159001</td>\n",
       "      <td>6.170565</td>\n",
       "      <td>2001.229172</td>\n",
       "    </tr>\n",
       "    <tr>\n",
       "      <th>std</th>\n",
       "      <td>67585.708616</td>\n",
       "      <td>1.480569</td>\n",
       "      <td>4.232179e+07</td>\n",
       "      <td>1.772976e+08</td>\n",
       "      <td>19.845678</td>\n",
       "      <td>883.757588</td>\n",
       "      <td>0.792437</td>\n",
       "      <td>11.329616</td>\n",
       "    </tr>\n",
       "    <tr>\n",
       "      <th>min</th>\n",
       "      <td>5.000000</td>\n",
       "      <td>0.010335</td>\n",
       "      <td>1.000000e+00</td>\n",
       "      <td>2.000000e+00</td>\n",
       "      <td>15.000000</td>\n",
       "      <td>10.000000</td>\n",
       "      <td>2.200000</td>\n",
       "      <td>1960.000000</td>\n",
       "    </tr>\n",
       "    <tr>\n",
       "      <th>25%</th>\n",
       "      <td>5925.000000</td>\n",
       "      <td>0.470651</td>\n",
       "      <td>1.000000e+07</td>\n",
       "      <td>1.433379e+07</td>\n",
       "      <td>96.000000</td>\n",
       "      <td>74.000000</td>\n",
       "      <td>5.700000</td>\n",
       "      <td>1995.000000</td>\n",
       "    </tr>\n",
       "    <tr>\n",
       "      <th>50%</th>\n",
       "      <td>11253.000000</td>\n",
       "      <td>0.810805</td>\n",
       "      <td>2.500000e+07</td>\n",
       "      <td>4.621664e+07</td>\n",
       "      <td>106.000000</td>\n",
       "      <td>209.000000</td>\n",
       "      <td>6.200000</td>\n",
       "      <td>2004.000000</td>\n",
       "    </tr>\n",
       "    <tr>\n",
       "      <th>75%</th>\n",
       "      <td>38579.000000</td>\n",
       "      <td>1.387163</td>\n",
       "      <td>5.000000e+07</td>\n",
       "      <td>1.260695e+08</td>\n",
       "      <td>119.000000</td>\n",
       "      <td>584.000000</td>\n",
       "      <td>6.700000</td>\n",
       "      <td>2010.000000</td>\n",
       "    </tr>\n",
       "    <tr>\n",
       "      <th>max</th>\n",
       "      <td>417859.000000</td>\n",
       "      <td>32.985763</td>\n",
       "      <td>4.250000e+08</td>\n",
       "      <td>2.781506e+09</td>\n",
       "      <td>338.000000</td>\n",
       "      <td>9767.000000</td>\n",
       "      <td>8.400000</td>\n",
       "      <td>2015.000000</td>\n",
       "    </tr>\n",
       "  </tbody>\n",
       "</table>\n",
       "</div>"
      ],
      "text/plain": [
       "                  id   popularity        budget       revenue      runtime  \\\n",
       "count    3805.000000  3805.000000  3.805000e+03  3.805000e+03  3805.000000   \n",
       "mean    40040.372668     1.203784  3.760800e+07  1.089734e+08   109.351117   \n",
       "std     67585.708616     1.480569  4.232179e+07  1.772976e+08    19.845678   \n",
       "min         5.000000     0.010335  1.000000e+00  2.000000e+00    15.000000   \n",
       "25%      5925.000000     0.470651  1.000000e+07  1.433379e+07    96.000000   \n",
       "50%     11253.000000     0.810805  2.500000e+07  4.621664e+07   106.000000   \n",
       "75%     38579.000000     1.387163  5.000000e+07  1.260695e+08   119.000000   \n",
       "max    417859.000000    32.985763  4.250000e+08  2.781506e+09   338.000000   \n",
       "\n",
       "        vote_count  vote_average  release_year  \n",
       "count  3805.000000   3805.000000   3805.000000  \n",
       "mean    534.159001      6.170565   2001.229172  \n",
       "std     883.757588      0.792437     11.329616  \n",
       "min      10.000000      2.200000   1960.000000  \n",
       "25%      74.000000      5.700000   1995.000000  \n",
       "50%     209.000000      6.200000   2004.000000  \n",
       "75%     584.000000      6.700000   2010.000000  \n",
       "max    9767.000000      8.400000   2015.000000  "
      ]
     },
     "execution_count": 18,
     "metadata": {},
     "output_type": "execute_result"
    }
   ],
   "source": [
    "#check if 0 values still exist,since the min value is larger than 0,we got rid of all the 0s\n",
    "df.describe()"
   ]
  },
  {
   "cell_type": "markdown",
   "metadata": {},
   "source": [
    "## Rename columns"
   ]
  },
  {
   "cell_type": "code",
   "execution_count": 43,
   "metadata": {},
   "outputs": [],
   "source": [
    "# rename budget,revenue and runtime columns\n",
    "df.rename(columns = {'budget':'budget_in_dollars','revenue':'revenue_in_dollars','runtime':'runtime_in_mins'},inplace = True)"
   ]
  },
  {
   "cell_type": "code",
   "execution_count": 44,
   "metadata": {},
   "outputs": [
    {
     "data": {
      "text/html": [
       "<div>\n",
       "<style scoped>\n",
       "    .dataframe tbody tr th:only-of-type {\n",
       "        vertical-align: middle;\n",
       "    }\n",
       "\n",
       "    .dataframe tbody tr th {\n",
       "        vertical-align: top;\n",
       "    }\n",
       "\n",
       "    .dataframe thead th {\n",
       "        text-align: right;\n",
       "    }\n",
       "</style>\n",
       "<table border=\"1\" class=\"dataframe\">\n",
       "  <thead>\n",
       "    <tr style=\"text-align: right;\">\n",
       "      <th></th>\n",
       "      <th>id</th>\n",
       "      <th>popularity</th>\n",
       "      <th>budget_in_dollars</th>\n",
       "      <th>revenue_in_dollars</th>\n",
       "      <th>original_title</th>\n",
       "      <th>cast</th>\n",
       "      <th>director</th>\n",
       "      <th>runtime_in_mins</th>\n",
       "      <th>genres</th>\n",
       "      <th>production_companies</th>\n",
       "      <th>release_date</th>\n",
       "      <th>vote_count</th>\n",
       "      <th>vote_average</th>\n",
       "      <th>release_year</th>\n",
       "    </tr>\n",
       "  </thead>\n",
       "  <tbody>\n",
       "    <tr>\n",
       "      <th>0</th>\n",
       "      <td>135397</td>\n",
       "      <td>32.985763</td>\n",
       "      <td>150000000.0</td>\n",
       "      <td>1.513529e+09</td>\n",
       "      <td>Jurassic World</td>\n",
       "      <td>Chris Pratt|Bryce Dallas Howard|Irrfan Khan|Vi...</td>\n",
       "      <td>Colin Trevorrow</td>\n",
       "      <td>124.0</td>\n",
       "      <td>Action|Adventure|Science Fiction|Thriller</td>\n",
       "      <td>Universal Studios|Amblin Entertainment|Legenda...</td>\n",
       "      <td>2015-06-09</td>\n",
       "      <td>5562</td>\n",
       "      <td>6.5</td>\n",
       "      <td>2015</td>\n",
       "    </tr>\n",
       "  </tbody>\n",
       "</table>\n",
       "</div>"
      ],
      "text/plain": [
       "       id  popularity  budget_in_dollars  revenue_in_dollars  original_title  \\\n",
       "0  135397   32.985763        150000000.0        1.513529e+09  Jurassic World   \n",
       "\n",
       "                                                cast         director  \\\n",
       "0  Chris Pratt|Bryce Dallas Howard|Irrfan Khan|Vi...  Colin Trevorrow   \n",
       "\n",
       "   runtime_in_mins                                     genres  \\\n",
       "0            124.0  Action|Adventure|Science Fiction|Thriller   \n",
       "\n",
       "                                production_companies release_date  vote_count  \\\n",
       "0  Universal Studios|Amblin Entertainment|Legenda...   2015-06-09        5562   \n",
       "\n",
       "   vote_average  release_year  \n",
       "0           6.5          2015  "
      ]
     },
     "execution_count": 44,
     "metadata": {},
     "output_type": "execute_result"
    }
   ],
   "source": [
    "# chech the head to make sure I changed the columns'name \n",
    "df.head(1)"
   ]
  },
  {
   "cell_type": "code",
   "execution_count": 45,
   "metadata": {},
   "outputs": [
    {
     "name": "stdout",
     "output_type": "stream",
     "text": [
      "There are 3805 entries and 14 columns in this dataset.\n"
     ]
    }
   ],
   "source": [
    "#print the shape of the dataframe\n",
    "print('There are ' + str(df.shape[0])+ ' entries and '+ str(df.shape[1]) + ' columns in this dataset.')"
   ]
  },
  {
   "cell_type": "markdown",
   "metadata": {},
   "source": [
    "# Exploratory Data Analysis"
   ]
  },
  {
   "cell_type": "markdown",
   "metadata": {},
   "source": [
    "###  Research Question 1: General questions about the dataset"
   ]
  },
  {
   "cell_type": "markdown",
   "metadata": {},
   "source": [
    "1.The most profitable movies and the average profit of the movies  \n",
    "\n",
    "2.The largest budget and the average budget?  \n",
    "\n",
    "3.The largest revenue and the averge revenue.\n",
    "\n",
    "4.Which movie has the highest rating?  \n",
    "\n",
    "5.which movie has the longest and shortest runtime?  \n",
    "\n",
    "6.What is the average runtime?\n",
    "\n",
    "7.Visualization about the runtime and vote_average.  "
   ]
  },
  {
   "cell_type": "code",
   "execution_count": 54,
   "metadata": {},
   "outputs": [],
   "source": [
    "# Creat a profit column and sort the rows by it\n",
    "df['profit'] = df['revenue_in_dollars']-df['budget_in_dollars']\n",
    "df.sort_values('profit', ascending = False,inplace = True)"
   ]
  },
  {
   "cell_type": "code",
   "execution_count": 55,
   "metadata": {},
   "outputs": [
    {
     "name": "stdout",
     "output_type": "stream",
     "text": [
      "1386    Avatar is the most profitable movie\n",
      "Name: original_title, dtype: object\n"
     ]
    }
   ],
   "source": [
    "#which movie is the most profitable movies,I have already sorted the values ,the first one is the largest\n",
    "print(pd.DataFrame(df.iloc[0,:]).loc['original_title'] +' is the most profitable movie')"
   ]
  },
  {
   "cell_type": "code",
   "execution_count": 56,
   "metadata": {},
   "outputs": [
    {
     "name": "stdout",
     "output_type": "stream",
     "text": [
      "The average profit is 71365395.43206307 dollars\n"
     ]
    }
   ],
   "source": [
    "# The average profit\n",
    "print('The average profit is '+ str(df['profit'].mean()) + ' dollars')"
   ]
  },
  {
   "cell_type": "code",
   "execution_count": 57,
   "metadata": {},
   "outputs": [
    {
     "name": "stdout",
     "output_type": "stream",
     "text": [
      "2244    The Warrior's Way has the largest budget\n",
      "Name: original_title, dtype: object\n"
     ]
    }
   ],
   "source": [
    "#which movie has the largest budget\n",
    "print(df[df['budget_in_dollars']==df['budget_in_dollars'].max()]['original_title'] + ' has the largest budget')"
   ]
  },
  {
   "cell_type": "code",
   "execution_count": 58,
   "metadata": {},
   "outputs": [
    {
     "name": "stdout",
     "output_type": "stream",
     "text": [
      "The average budget is 37607996.559526935 dollars\n"
     ]
    }
   ],
   "source": [
    "# What is the average budget of the movies\n",
    "print('The average budget is '+ str(df['budget_in_dollars'].mean()) +' dollars')"
   ]
  },
  {
   "cell_type": "code",
   "execution_count": 59,
   "metadata": {},
   "outputs": [
    {
     "name": "stdout",
     "output_type": "stream",
     "text": [
      "1386    Avatar has the largest revenue\n",
      "Name: original_title, dtype: object\n"
     ]
    }
   ],
   "source": [
    "#which movie has the largest revenue\n",
    "print(df[df['revenue_in_dollars']==df['revenue_in_dollars'].max()]['original_title'] + ' has the largest revenue')"
   ]
  },
  {
   "cell_type": "code",
   "execution_count": 60,
   "metadata": {},
   "outputs": [
    {
     "name": "stdout",
     "output_type": "stream",
     "text": [
      "The average revenue is 108973391.99159001 dollars\n"
     ]
    }
   ],
   "source": [
    "#What is the average revenue of the movies\n",
    "print('The average revenue is ' + str(df['revenue_in_dollars'].mean()) +' dollars')"
   ]
  },
  {
   "cell_type": "code",
   "execution_count": 53,
   "metadata": {},
   "outputs": [
    {
     "data": {
      "text/html": [
       "<div>\n",
       "<style scoped>\n",
       "    .dataframe tbody tr th:only-of-type {\n",
       "        vertical-align: middle;\n",
       "    }\n",
       "\n",
       "    .dataframe tbody tr th {\n",
       "        vertical-align: top;\n",
       "    }\n",
       "\n",
       "    .dataframe thead th {\n",
       "        text-align: right;\n",
       "    }\n",
       "</style>\n",
       "<table border=\"1\" class=\"dataframe\">\n",
       "  <thead>\n",
       "    <tr style=\"text-align: right;\">\n",
       "      <th></th>\n",
       "      <th>id</th>\n",
       "      <th>popularity</th>\n",
       "      <th>budget_in_dollars</th>\n",
       "      <th>revenue_in_dollars</th>\n",
       "      <th>original_title</th>\n",
       "      <th>cast</th>\n",
       "      <th>director</th>\n",
       "      <th>runtime_in_mins</th>\n",
       "      <th>genres</th>\n",
       "      <th>production_companies</th>\n",
       "      <th>release_date</th>\n",
       "      <th>vote_count</th>\n",
       "      <th>vote_average</th>\n",
       "      <th>release_year</th>\n",
       "      <th>profit</th>\n",
       "    </tr>\n",
       "  </thead>\n",
       "  <tbody>\n",
       "    <tr>\n",
       "      <th>7948</th>\n",
       "      <td>24128</td>\n",
       "      <td>0.283191</td>\n",
       "      <td>1200000.0</td>\n",
       "      <td>4978922.0</td>\n",
       "      <td>Stop Making Sense</td>\n",
       "      <td>David Byrne|Tina Weymouth|Chris Frantz|Jerry H...</td>\n",
       "      <td>Jonathan Demme</td>\n",
       "      <td>88.0</td>\n",
       "      <td>Documentary|Music</td>\n",
       "      <td>Talking Heads|Arnold Stiefel Company</td>\n",
       "      <td>1984-11-16</td>\n",
       "      <td>23</td>\n",
       "      <td>8.4</td>\n",
       "      <td>1984</td>\n",
       "      <td>3778922.0</td>\n",
       "    </tr>\n",
       "    <tr>\n",
       "      <th>4178</th>\n",
       "      <td>278</td>\n",
       "      <td>7.192039</td>\n",
       "      <td>25000000.0</td>\n",
       "      <td>28341469.0</td>\n",
       "      <td>The Shawshank Redemption</td>\n",
       "      <td>Tim Robbins|Morgan Freeman|Bob Gunton|William ...</td>\n",
       "      <td>Frank Darabont</td>\n",
       "      <td>142.0</td>\n",
       "      <td>Drama|Crime</td>\n",
       "      <td>Castle Rock Entertainment</td>\n",
       "      <td>1994-09-10</td>\n",
       "      <td>5754</td>\n",
       "      <td>8.4</td>\n",
       "      <td>1994</td>\n",
       "      <td>3341469.0</td>\n",
       "    </tr>\n",
       "  </tbody>\n",
       "</table>\n",
       "</div>"
      ],
      "text/plain": [
       "         id  popularity  budget_in_dollars  revenue_in_dollars  \\\n",
       "7948  24128    0.283191          1200000.0           4978922.0   \n",
       "4178    278    7.192039         25000000.0          28341469.0   \n",
       "\n",
       "                original_title  \\\n",
       "7948         Stop Making Sense   \n",
       "4178  The Shawshank Redemption   \n",
       "\n",
       "                                                   cast        director  \\\n",
       "7948  David Byrne|Tina Weymouth|Chris Frantz|Jerry H...  Jonathan Demme   \n",
       "4178  Tim Robbins|Morgan Freeman|Bob Gunton|William ...  Frank Darabont   \n",
       "\n",
       "      runtime_in_mins             genres  \\\n",
       "7948             88.0  Documentary|Music   \n",
       "4178            142.0        Drama|Crime   \n",
       "\n",
       "                      production_companies release_date  vote_count  \\\n",
       "7948  Talking Heads|Arnold Stiefel Company   1984-11-16          23   \n",
       "4178             Castle Rock Entertainment   1994-09-10        5754   \n",
       "\n",
       "      vote_average  release_year     profit  \n",
       "7948           8.4          1984  3778922.0  \n",
       "4178           8.4          1994  3341469.0  "
      ]
     },
     "execution_count": 53,
     "metadata": {},
     "output_type": "execute_result"
    }
   ],
   "source": [
    "# which movie has the highest average rating\n",
    "df[df['vote_average'] == df['vote_average'].max()]"
   ]
  },
  {
   "cell_type": "markdown",
   "metadata": {},
   "source": [
    "There are two movies having the same highest rating.However, Stop Making Sense has only 23 vote counts.It is possible that this movie has received high rating because of too few vote counts.I would say The Shawshank Redemption has the highest rating if I have to pick one of them."
   ]
  },
  {
   "cell_type": "code",
   "execution_count": 61,
   "metadata": {},
   "outputs": [
    {
     "name": "stdout",
     "output_type": "stream",
     "text": [
      "2107    Carlos has the longest runtime\n",
      "Name: original_title, dtype: object\n"
     ]
    }
   ],
   "source": [
    "# which movie has the longest runtime\n",
    "print(df[df['runtime_in_mins'] == df['runtime_in_mins'].max()]['original_title']+' has the longest runtime' )"
   ]
  },
  {
   "cell_type": "code",
   "execution_count": 62,
   "metadata": {},
   "outputs": [
    {
     "name": "stdout",
     "output_type": "stream",
     "text": [
      "5162    Kid's Story has the shortest runtime\n",
      "Name: original_title, dtype: object\n"
     ]
    }
   ],
   "source": [
    "# which movie has the shortest runtime\n",
    "print(df[df['runtime_in_mins'] == df['runtime_in_mins'].min()]['original_title'] +' has the shortest runtime') "
   ]
  },
  {
   "cell_type": "code",
   "execution_count": 63,
   "metadata": {},
   "outputs": [
    {
     "name": "stdout",
     "output_type": "stream",
     "text": [
      "The average runtime is 109.35111695137977 mins\n"
     ]
    }
   ],
   "source": [
    "# avarge runtime for the movies in the dataset\n",
    "avg_runtime = df['runtime_in_mins'].mean()\n",
    "print('The average runtime is '+ str(avg_runtime) + ' mins')"
   ]
  },
  {
   "cell_type": "code",
   "execution_count": 64,
   "metadata": {},
   "outputs": [
    {
     "data": {
      "text/plain": [
       "Text(0, 0.5, 'Movie count')"
      ]
     },
     "execution_count": 64,
     "metadata": {},
     "output_type": "execute_result"
    },
    {
     "data": {
      "image/png": "[encoded data removed]",
      "text/plain": [
       "<Figure size 720x576 with 1 Axes>"
      ]
     },
     "metadata": {},
     "output_type": "display_data"
    }
   ],
   "source": [
    "# visualize the runtime distribution\n",
    "sns.set_style('darkgrid')\n",
    "plt.figure(figsize = (10,8))\n",
    "sns.distplot(df['runtime_in_mins'],kde = False,bins = 30)\n",
    "plt.title('Ditribution of movies runtime',fontsize = 15)\n",
    "plt.xlabel('Movie runtime',fontsize = 12)\n",
    "plt.ylabel('Movie count',fontsize = 12)"
   ]
  },
  {
   "cell_type": "markdown",
   "metadata": {},
   "source": [
    " Almost all the runtime for movies is between 50 and 200.This ditribution is right skewed.More than 1000 movies have the runtime between 90 and 100 mins,which ranks first.More than 800 movies are between 100 and 110 mins."
   ]
  },
  {
   "cell_type": "code",
   "execution_count": 65,
   "metadata": {},
   "outputs": [
    {
     "data": {
      "text/plain": [
       "Text(0, 0.5, 'movie in the dataset')"
      ]
     },
     "execution_count": 65,
     "metadata": {},
     "output_type": "execute_result"
    },
    {
     "data": {
      "image/png": "[encoded data removed]",
      "text/plain": [
       "<Figure size 720x576 with 1 Axes>"
      ]
     },
     "metadata": {},
     "output_type": "display_data"
    }
   ],
   "source": [
    "plt.figure(figsize = (10,8))\n",
    "sns.violinplot(df['runtime_in_mins'],color = 'pink')\n",
    "plt.title('ditribution of movies runtime',fontsize = 15)\n",
    "plt.xlabel('movie runtime',fontsize = 12)\n",
    "plt.ylabel('movie in the dataset',fontsize = 12)"
   ]
  },
  {
   "cell_type": "markdown",
   "metadata": {},
   "source": [
    "There are some outliers whose runtime is longer than 300 mins."
   ]
  },
  {
   "cell_type": "code",
   "execution_count": 66,
   "metadata": {},
   "outputs": [
    {
     "data": {
      "text/plain": [
       "Text(0, 0.5, 'Movie count')"
      ]
     },
     "execution_count": 66,
     "metadata": {},
     "output_type": "execute_result"
    },
    {
     "data": {
      "image/png": "[encoded data removed]",
      "text/plain": [
       "<Figure size 720x576 with 1 Axes>"
      ]
     },
     "metadata": {},
     "output_type": "display_data"
    }
   ],
   "source": [
    "# visualize the vote_average distribution\n",
    "plt.figure(figsize = (10,8))\n",
    "sns.distplot(df['vote_average'],bins =40,color = 'grey')\n",
    "plt.title('Ditribution of vote average',fontsize = 15)\n",
    "plt.xlabel('Rating score',fontsize = 12)\n",
    "plt.ylabel('Movie count',fontsize = 12)"
   ]
  },
  {
   "cell_type": "markdown",
   "metadata": {},
   "source": [
    " The vote average is almostly normally distributed and a little left skewed. The averge and the median are between 5 and 7."
   ]
  },
  {
   "cell_type": "markdown",
   "metadata": {},
   "source": [
    "## Research Question 2: What properties do profitable movies have?"
   ]
  },
  {
   "cell_type": "markdown",
   "metadata": {},
   "source": [
    "1.Whether higher rated movies are more profitable?  \n",
    "2.Visualize the the sum of profit group by year.  \n",
    "3.In which year movies have the most profits?  \n",
    "4.Visulize the correlation between different variables.  \n",
    "5.Explore the relation between popularity and profit.  \n",
    "6.Explore the relation between vote_count and profit.  \n",
    "7.Explore the most frequent directors and actors in the profitable movies.  \n",
    "8.Explore the most frequent genres in the profitable movies.  \n",
    "9.Explore which month has the highest average profit and largest number of movies released? "
   ]
  },
  {
   "cell_type": "code",
   "execution_count": 67,
   "metadata": {},
   "outputs": [
    {
     "data": {
      "text/plain": [
       "Text(0, 0.5, 'Average profit')"
      ]
     },
     "execution_count": 67,
     "metadata": {},
     "output_type": "execute_result"
    },
    {
     "data": {
      "image/png": "[encoded data removed]",
      "text/plain": [
       "<Figure size 504x360 with 1 Axes>"
      ]
     },
     "metadata": {},
     "output_type": "display_data"
    }
   ],
   "source": [
    "# To check if the higher rated movies are more profitable\n",
    "df_higher_rating = df[df['vote_average'] >= df['vote_average'].mean()]\n",
    "df_lower_rating = df[df['vote_average'] < df['vote_average'].mean()]\n",
    "avg_profit_for_higher = df_higher_rating['profit'].mean()\n",
    "avg_profit_for_lower = df_lower_rating['profit'].mean()\n",
    "\n",
    "# plot a bar chart for both the lower rated and higher rated movies\n",
    "plt.figure(figsize = (7,5))\n",
    "plt.bar(['Higher rated','Lower rated'],[avg_profit_for_higher,avg_profit_for_lower],color = 'skyblue')\n",
    "plt.title('Average profit for higher rating movies and lower rating movies',fontsize = 13)\n",
    "plt.xlabel('Movie rating',fontsize = 12)\n",
    "plt.ylabel('Average profit',fontsize = 12)"
   ]
  },
  {
   "cell_type": "markdown",
   "metadata": {},
   "source": [
    "From the chart above,it seems that higher rated movies are much profitable than the lower rating movies.The profit for higher rated movies is almost twice of that of the lower rated movies."
   ]
  },
  {
   "cell_type": "code",
   "execution_count": 68,
   "metadata": {},
   "outputs": [],
   "source": [
    "#calculate the sum of profits of all the movies group by year\n",
    "profit_by_year = df.groupby('release_year')['profit'].sum()"
   ]
  },
  {
   "cell_type": "code",
   "execution_count": 69,
   "metadata": {},
   "outputs": [
    {
     "data": {
      "text/plain": [
       "Text(0.5, 1.0, 'profit of all the movies group by year')"
      ]
     },
     "execution_count": 69,
     "metadata": {},
     "output_type": "execute_result"
    },
    {
     "data": {
      "image/png": "[encoded data removed]",
      "text/plain": [
       "<Figure size 720x576 with 1 Axes>"
      ]
     },
     "metadata": {},
     "output_type": "display_data"
    }
   ],
   "source": [
    "# visualize the profit by year\n",
    "plt.figure(figsize = (10,8))\n",
    "profit_by_year.plot()\n",
    "plt.xlabel('release year',fontsize = 12)\n",
    "plt.ylabel('the total profit of all the movies that were released in the year',fontsize = 12)\n",
    "plt.title('profit of all the movies group by year',fontsize = 15)"
   ]
  },
  {
   "cell_type": "markdown",
   "metadata": {},
   "source": [
    "from the plot below, the profit of movies is increasing significantly with fluctation from 1960 to 2016."
   ]
  },
  {
   "cell_type": "code",
   "execution_count": 70,
   "metadata": {},
   "outputs": [
    {
     "name": "stdout",
     "output_type": "stream",
     "text": [
      "2015 is the year that has the most profits\n"
     ]
    }
   ],
   "source": [
    "# in which year movies has the most profits\n",
    "print(str(profit_by_year.idxmax())+ ' is the year that has the most profits')"
   ]
  },
  {
   "cell_type": "code",
   "execution_count": 1668,
   "metadata": {},
   "outputs": [
    {
     "data": {
      "text/plain": [
       "Text(0.5, 1.0, 'Profit distribution')"
      ]
     },
     "execution_count": 1668,
     "metadata": {},
     "output_type": "execute_result"
    },
    {
     "data": {
      "image/png": "[encoded data removed]",
      "text/plain": [
       "<Figure size 720x576 with 1 Axes>"
      ]
     },
     "metadata": {},
     "output_type": "display_data"
    }
   ],
   "source": [
    "plt.figure(figsize = (10,8))\n",
    "sns.distplot(df['profit'],color = 'green',kde = False,bins = 60)\n",
    "plt.xlabel('Profit',fontsize = 12)\n",
    "plt.ylabel('Movie count',fontsize = 12)\n",
    "plt.title('Profit distribution',fontsize = 15)"
   ]
  },
  {
   "cell_type": "markdown",
   "metadata": {},
   "source": [
    "There are negative profits for some movies.The profits of most of the movies are distributed between 0 and 3,00,000,000 dollars.very few movies have more than 5,00,000,000 dollars profits."
   ]
  },
  {
   "cell_type": "code",
   "execution_count": 71,
   "metadata": {},
   "outputs": [
    {
     "data": {
      "text/plain": [
       "<matplotlib.axes._subplots.AxesSubplot at 0x1a25025dd0>"
      ]
     },
     "execution_count": 71,
     "metadata": {},
     "output_type": "execute_result"
    },
    {
     "data": {
      "image/png": "[encoded data removed]",
      "text/plain": [
       "<Figure size 720x576 with 2 Axes>"
      ]
     },
     "metadata": {},
     "output_type": "display_data"
    }
   ],
   "source": [
    "# creat a correlation matrix \n",
    "df.corr()\n",
    "# plot the heatmap,which is one of the most effective ways to visualize correlations\n",
    "plt.figure(figsize = (10,8))\n",
    "sns.heatmap(df.corr())"
   ]
  },
  {
   "cell_type": "markdown",
   "metadata": {},
   "source": [
    "we can see from the heapmap that profit is positively correlated with popularity and vote_count"
   ]
  },
  {
   "cell_type": "code",
   "execution_count": 72,
   "metadata": {},
   "outputs": [
    {
     "data": {
      "text/plain": [
       "Text(0.5, 1.0, 'The relation between popularity and profit')"
      ]
     },
     "execution_count": 72,
     "metadata": {},
     "output_type": "execute_result"
    },
    {
     "data": {
      "image/png": "[encoded data removed]",
      "text/plain": [
       "<Figure size 720x576 with 1 Axes>"
      ]
     },
     "metadata": {},
     "output_type": "display_data"
    }
   ],
   "source": [
    "#let's visualize the relation between popularity and profit\n",
    "plt.figure(figsize = (10,8))\n",
    "sns.regplot(x= df['popularity'],y=df['profit'],data = df,color = 'green',marker = \"*\")\n",
    "plt.xlabel('Popularity',fontsize = 12)\n",
    "plt.ylabel('Profit',fontsize = 12)\n",
    "plt.title('The relation between popularity and profit',fontsize = 15)"
   ]
  },
  {
   "cell_type": "markdown",
   "metadata": {},
   "source": [
    "There is a positive correlation between popularity and profit."
   ]
  },
  {
   "cell_type": "code",
   "execution_count": 73,
   "metadata": {},
   "outputs": [
    {
     "data": {
      "text/plain": [
       "Text(0.5, 1.0, 'The relation between vote count and profit')"
      ]
     },
     "execution_count": 73,
     "metadata": {},
     "output_type": "execute_result"
    },
    {
     "data": {
      "image/png": "[encoded data removed]",
      "text/plain": [
       "<Figure size 720x576 with 1 Axes>"
      ]
     },
     "metadata": {},
     "output_type": "display_data"
    }
   ],
   "source": [
    "# explore the relation between profit and vote_count\n",
    "plt.figure(figsize = (10,8))\n",
    "sns.regplot(x = df['vote_count'],y = df['profit'],data = df)\n",
    "plt.xlabel('Vote count',fontsize = 12)\n",
    "plt.ylabel('Profit',fontsize = 12)\n",
    "plt.title('The relation between vote count and profit',fontsize = 15)"
   ]
  },
  {
   "cell_type": "markdown",
   "metadata": {},
   "source": [
    "There is a positive correlation between vote count and profit."
   ]
  },
  {
   "cell_type": "code",
   "execution_count": 74,
   "metadata": {},
   "outputs": [],
   "source": [
    "#let's explore those movies whose profits are above the average \n",
    "# and creat a new dataframe for the profitable movies called pro_movies\n",
    "pro_movies = df[df['profit']>=df['profit'].mean()]"
   ]
  },
  {
   "cell_type": "code",
   "execution_count": 75,
   "metadata": {},
   "outputs": [],
   "source": [
    "# define a function to do the value counts for columns that contain '|'\n",
    "def value_counts_function(columns):\n",
    "    return pd.Series(pro_movies[columns].str.cat(sep = '|').split('|')).value_counts(ascending = False)"
   ]
  },
  {
   "cell_type": "code",
   "execution_count": 76,
   "metadata": {},
   "outputs": [
    {
     "data": {
      "text/plain": [
       "Steven Spielberg      22\n",
       "Robert Zemeckis       12\n",
       "Ridley Scott          10\n",
       "Tim Burton             9\n",
       "Ron Howard             8\n",
       "Michael Bay            8\n",
       "M. Night Shyamalan     8\n",
       "Steven Soderbergh      7\n",
       "Roland Emmerich        7\n",
       "Clint Eastwood         7\n",
       "dtype: int64"
      ]
     },
     "execution_count": 76,
     "metadata": {},
     "output_type": "execute_result"
    }
   ],
   "source": [
    "# Most frequent directors in the profitable movies\n",
    "value_counts_function('director').head(10)"
   ]
  },
  {
   "cell_type": "markdown",
   "metadata": {},
   "source": [
    "The most frequent director is Steven Spielberg,who has 22 counts in the profitable movies dataset,followed by Robert Zemeckis and Ridley scott."
   ]
  },
  {
   "cell_type": "code",
   "execution_count": 77,
   "metadata": {},
   "outputs": [
    {
     "data": {
      "text/plain": [
       "Tom Cruise            26\n",
       "Tom Hanks             20\n",
       "Sylvester Stallone    20\n",
       "Brad Pitt             20\n",
       "Cameron Diaz          18\n",
       "Adam Sandler          18\n",
       "Bruce Willis          17\n",
       "Jim Carrey            16\n",
       "Will Smith            16\n",
       "Ben Stiller           16\n",
       "dtype: int64"
      ]
     },
     "execution_count": 77,
     "metadata": {},
     "output_type": "execute_result"
    }
   ],
   "source": [
    "# Most frequent actors or actresses in the profitable movies\n",
    "value_counts_function('cast').head(10)"
   ]
  },
  {
   "cell_type": "markdown",
   "metadata": {},
   "source": [
    "The most frequent actor/actress is Tom Cruise, who has 26 counts in the profitable movies dataset."
   ]
  },
  {
   "cell_type": "code",
   "execution_count": 78,
   "metadata": {},
   "outputs": [
    {
     "data": {
      "text/plain": [
       "Universal Pictures                        131\n",
       "Warner Bros.                              119\n",
       "Paramount Pictures                        107\n",
       "Twentieth Century Fox Film Corporation    102\n",
       "Columbia Pictures                          73\n",
       "Walt Disney Pictures                       66\n",
       "New Line Cinema                            55\n",
       "Relativity Media                           38\n",
       "Columbia Pictures Corporation              38\n",
       "DreamWorks SKG                             37\n",
       "dtype: int64"
      ]
     },
     "execution_count": 78,
     "metadata": {},
     "output_type": "execute_result"
    }
   ],
   "source": [
    "# Most frequent production campanies in the profitable movies\n",
    "value_counts_function('production_companies').head(10)"
   ]
  },
  {
   "cell_type": "markdown",
   "metadata": {},
   "source": [
    "The most frequent production companies in the profitable dataset is Universal pictures,having 131 counts,followed by warner Bros."
   ]
  },
  {
   "cell_type": "code",
   "execution_count": 79,
   "metadata": {},
   "outputs": [
    {
     "data": {
      "text/html": [
       "<div>\n",
       "<style scoped>\n",
       "    .dataframe tbody tr th:only-of-type {\n",
       "        vertical-align: middle;\n",
       "    }\n",
       "\n",
       "    .dataframe tbody tr th {\n",
       "        vertical-align: top;\n",
       "    }\n",
       "\n",
       "    .dataframe thead th {\n",
       "        text-align: right;\n",
       "    }\n",
       "</style>\n",
       "<table border=\"1\" class=\"dataframe\">\n",
       "  <thead>\n",
       "    <tr style=\"text-align: right;\">\n",
       "      <th></th>\n",
       "      <th>counts</th>\n",
       "    </tr>\n",
       "  </thead>\n",
       "  <tbody>\n",
       "    <tr>\n",
       "      <th>Comedy</th>\n",
       "      <td>384</td>\n",
       "    </tr>\n",
       "    <tr>\n",
       "      <th>Action</th>\n",
       "      <td>382</td>\n",
       "    </tr>\n",
       "    <tr>\n",
       "      <th>Drama</th>\n",
       "      <td>365</td>\n",
       "    </tr>\n",
       "    <tr>\n",
       "      <th>Adventure</th>\n",
       "      <td>321</td>\n",
       "    </tr>\n",
       "    <tr>\n",
       "      <th>Thriller</th>\n",
       "      <td>308</td>\n",
       "    </tr>\n",
       "    <tr>\n",
       "      <th>Family</th>\n",
       "      <td>189</td>\n",
       "    </tr>\n",
       "    <tr>\n",
       "      <th>Romance</th>\n",
       "      <td>179</td>\n",
       "    </tr>\n",
       "    <tr>\n",
       "      <th>Science Fiction</th>\n",
       "      <td>176</td>\n",
       "    </tr>\n",
       "    <tr>\n",
       "      <th>Fantasy</th>\n",
       "      <td>166</td>\n",
       "    </tr>\n",
       "    <tr>\n",
       "      <th>Crime</th>\n",
       "      <td>145</td>\n",
       "    </tr>\n",
       "    <tr>\n",
       "      <th>Animation</th>\n",
       "      <td>107</td>\n",
       "    </tr>\n",
       "    <tr>\n",
       "      <th>Horror</th>\n",
       "      <td>90</td>\n",
       "    </tr>\n",
       "    <tr>\n",
       "      <th>Mystery</th>\n",
       "      <td>88</td>\n",
       "    </tr>\n",
       "    <tr>\n",
       "      <th>Music</th>\n",
       "      <td>42</td>\n",
       "    </tr>\n",
       "    <tr>\n",
       "      <th>War</th>\n",
       "      <td>39</td>\n",
       "    </tr>\n",
       "    <tr>\n",
       "      <th>History</th>\n",
       "      <td>26</td>\n",
       "    </tr>\n",
       "    <tr>\n",
       "      <th>Western</th>\n",
       "      <td>13</td>\n",
       "    </tr>\n",
       "    <tr>\n",
       "      <th>Documentary</th>\n",
       "      <td>3</td>\n",
       "    </tr>\n",
       "  </tbody>\n",
       "</table>\n",
       "</div>"
      ],
      "text/plain": [
       "                 counts\n",
       "Comedy              384\n",
       "Action              382\n",
       "Drama               365\n",
       "Adventure           321\n",
       "Thriller            308\n",
       "Family              189\n",
       "Romance             179\n",
       "Science Fiction     176\n",
       "Fantasy             166\n",
       "Crime               145\n",
       "Animation           107\n",
       "Horror               90\n",
       "Mystery              88\n",
       "Music                42\n",
       "War                  39\n",
       "History              26\n",
       "Western              13\n",
       "Documentary           3"
      ]
     },
     "execution_count": 79,
     "metadata": {},
     "output_type": "execute_result"
    }
   ],
   "source": [
    "# let's creat a dataframe for the movies genres counts\n",
    "genres_value_counts = pd.DataFrame(value_counts_function('genres'),columns = ['counts'])\n",
    "genres_value_counts"
   ]
  },
  {
   "cell_type": "code",
   "execution_count": 1662,
   "metadata": {},
   "outputs": [
    {
     "data": {
      "text/plain": [
       "Text(0, 0.5, 'movies genres')"
      ]
     },
     "execution_count": 1662,
     "metadata": {},
     "output_type": "execute_result"
    },
    {
     "data": {
      "image/png": "[encoded data removed]",
      "text/plain": [
       "<Figure size 720x576 with 1 Axes>"
      ]
     },
     "metadata": {},
     "output_type": "display_data"
    }
   ],
   "source": [
    "# visualize the genres columns\n",
    "genres_value_counts.plot(kind = 'barh',color = 'green',figsize = (10,8),legend = False, use_index = True)\n",
    "plt.title('Genres counts for profitable movies',fontsize = 15)\n",
    "plt.xlabel('count',fontsize = 12)\n",
    "plt.ylabel('movies genres',fontsize = 12)"
   ]
  },
  {
   "cell_type": "markdown",
   "metadata": {},
   "source": [
    "Comedy is the most popular movies genre in the profitable movies.Drama,action and comedy are the three genres that have more than 350 counts in this profitable movies dataset,fllowed by the thriller and adventure.Docmentary is the least popular movies genre in the profitable movies dataset."
   ]
  },
  {
   "cell_type": "code",
   "execution_count": 80,
   "metadata": {},
   "outputs": [],
   "source": [
    "#set the index to release_date\n",
    "pro_movies.set_index('release_date',inplace = True)"
   ]
  },
  {
   "cell_type": "code",
   "execution_count": 82,
   "metadata": {},
   "outputs": [
    {
     "name": "stderr",
     "output_type": "stream",
     "text": [
      "/Users/leizhang/opt/anaconda3/lib/python3.7/site-packages/ipykernel_launcher.py:2: SettingWithCopyWarning: \n",
      "A value is trying to be set on a copy of a slice from a DataFrame.\n",
      "Try using .loc[row_indexer,col_indexer] = value instead\n",
      "\n",
      "See the caveats in the documentation: https://pandas.pydata.org/pandas-docs/stable/user_guide/indexing.html#returning-a-view-versus-a-copy\n",
      "  \n"
     ]
    }
   ],
   "source": [
    "# creat a new column for the extracted data month\n",
    "pro_movies['month']=pd.DatetimeIndex(pro_movies.index).month"
   ]
  },
  {
   "cell_type": "code",
   "execution_count": 83,
   "metadata": {},
   "outputs": [],
   "source": [
    "# calculate the average of profits group by month\n",
    "profit_by_month = pro_movies.groupby('month')['profit'].mean()"
   ]
  },
  {
   "cell_type": "code",
   "execution_count": 84,
   "metadata": {},
   "outputs": [],
   "source": [
    "# creat a month list as the ticks for x-axis\n",
    "month_list = ['January','February','March','April','May','June','July','August','September','October','November','December']"
   ]
  },
  {
   "cell_type": "code",
   "execution_count": 85,
   "metadata": {},
   "outputs": [
    {
     "data": {
      "text/plain": [
       "Text(0, 0.5, 'Average profit')"
      ]
     },
     "execution_count": 85,
     "metadata": {},
     "output_type": "execute_result"
    },
    {
     "data": {
      "image/png": "[encoded data removed]",
      "text/plain": [
       "<Figure size 864x504 with 1 Axes>"
      ]
     },
     "metadata": {},
     "output_type": "display_data"
    }
   ],
   "source": [
    "# plot the average profit chart group by month\n",
    "plt.figure(figsize = (12,7))\n",
    "plt.bar(month_list,profit_by_month,color = 'pink')\n",
    "plt.title('Average profits by month',fontsize = 15)\n",
    "plt.xlabel('Month',fontsize = 12)\n",
    "plt.ylabel('Average profit',fontsize = 12)"
   ]
  },
  {
   "cell_type": "markdown",
   "metadata": {},
   "source": [
    "May is the month that has the highest average movies profit,followed by June and November.January is the month that has the least average profits during a year for the profitable movies dataset."
   ]
  },
  {
   "cell_type": "code",
   "execution_count": 86,
   "metadata": {},
   "outputs": [],
   "source": [
    "# calculate the movie count group by month\n",
    "count_by_month = pro_movies.groupby('month')['profit'].count()"
   ]
  },
  {
   "cell_type": "code",
   "execution_count": 87,
   "metadata": {},
   "outputs": [
    {
     "data": {
      "text/plain": [
       "Text(0, 0.5, 'Movies counts')"
      ]
     },
     "execution_count": 87,
     "metadata": {},
     "output_type": "execute_result"
    },
    {
     "data": {
      "image/png": "[encoded data removed]",
      "text/plain": [
       "<Figure size 864x504 with 1 Axes>"
      ]
     },
     "metadata": {},
     "output_type": "display_data"
    }
   ],
   "source": [
    "# plot the movie count chart group by month\n",
    "plt.figure(figsize = (12,7))\n",
    "plt.bar(month_list,count_by_month,color = 'orange')\n",
    "plt.title('Movie counts group by month',fontsize = 15)\n",
    "plt.xlabel('Month',fontsize = 12)\n",
    "plt.ylabel('Movies counts',fontsize = 12)"
   ]
  },
  {
   "cell_type": "markdown",
   "metadata": {},
   "source": [
    "December has the largest number of movies released for the profitable movies dataset,followed by June.January has the least number of movies released."
   ]
  },
  {
   "cell_type": "markdown",
   "metadata": {},
   "source": [
    "# Conclusion"
   ]
  },
  {
   "cell_type": "markdown",
   "metadata": {},
   "source": [
    "1.Profit is positively correlated with popularity and vote count.   \n",
    "2.The average profits of the half higher rated movies are much more than those of the half lower rated movies.   \n",
    "3.The profits of most of the movies are distributed between 0 and 3,00,000,000 dollars.very few movies have more than 5,00,000,000 dollars profits.   \n",
    "4.Comedy,action, drama, adventure and thriller are the five most populart genres in the profitable movies dataset.  \n",
    "5.Tom Cruise,Brad Pitt,Tom Hanks,Sylvester Stallone  and Adam Sandler are the five most popular actors in the profitable movies dataset  \n",
    "6.Steven Spielberg,Robert Zemeckis,Ridley Scott,Tim Burton and Michael Bay are the five most popular directors in the profitable movies dataset  \n",
    "7.Universal Pictures,Warner Bros,Paramount Pictures,Twentieth Century Fox Film Corporation and Columbia Pictures are the most frequent production companies in the profitable movies dataset.  \n",
    "8.May and June are have the most average profits for the movies released,January has tge lease average profits.  \n",
    "9.Largest number of movies in the profitable dataset are released in December.  \n",
    "\n",
    "If I have the opportunity to invest a movie, I would choose a comedy/action/drama movie directed by the five most popular directors,casted by the most popular actors and produced by the most frequent production companies,released in May or June.I'm not saying that movies meeting all the requirements are definitely going to be profitable and sucessful.However, movies meeting the criteria have higher probability to be profitable"
   ]
  },
  {
   "cell_type": "markdown",
   "metadata": {},
   "source": [
    "## Limitations"
   ]
  },
  {
   "cell_type": "markdown",
   "metadata": {},
   "source": [
    "This analysis is based on the dataset with 3800 entries, which is a relatively small dataset and might not be error free in the real world when taking complicated situations into consideration.I've defined a movie to be a profitable movies by comparing the profits of the movie made with the average value.This seems reasonable in this dataset but might not be a accurate way in real world. Different production companies have different ways of defining whether a movie is worth producing or investing.It depends on so many factors such as the financial situation of the company, the preference of the audiences that the companies try to attract.In addition,dropping rows with missing values might also have an impact on the analysis.Furthermore,there are no currency unit in the revenue and budget columns,it is possible that there are more than one currency unit in those columns due to different countries that those companies are located."
   ]
  },
  {
   "cell_type": "markdown",
   "metadata": {},
   "source": [
    " "
   ]
  }
 ],
 "metadata": {
  "kernelspec": {
   "display_name": "Python 3",
   "language": "python",
   "name": "python3"
  },
  "language_info": {
   "codemirror_mode": {
    "name": "ipython",
    "version": 3
   },
   "file_extension": ".py",
   "mimetype": "text/x-python",
   "name": "python",
   "nbconvert_exporter": "python",
   "pygments_lexer": "ipython3",
   "version": "3.7.6"
  }
 },
 "nbformat": 4,
 "nbformat_minor": 4
}
